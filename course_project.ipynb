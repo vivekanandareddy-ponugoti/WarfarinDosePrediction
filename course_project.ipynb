{
  "nbformat": 4,
  "nbformat_minor": 0,
  "metadata": {
    "colab": {
      "provenance": []
    },
    "kernelspec": {
      "name": "python3",
      "display_name": "Python 3"
    },
    "language_info": {
      "name": "python"
    }
  },
  "cells": [
    {
      "cell_type": "markdown",
      "source": [
        "#Warfarin Dose Prediction"
      ],
      "metadata": {
        "id": "DN14IoHLE0CK"
      }
    },
    {
      "cell_type": "code",
      "source": [
        "cd /content/drive/MyDrive/Colab\\ Notebooks/FinalProject"
      ],
      "metadata": {
        "colab": {
          "base_uri": "https://localhost:8080/"
        },
        "id": "Im7ph-IBeirR",
        "outputId": "d919bbf7-75d5-44df-f94b-acd90addc165"
      },
      "execution_count": null,
      "outputs": [
        {
          "output_type": "stream",
          "name": "stdout",
          "text": [
            "/content/drive/MyDrive/Colab Notebooks/FinalProject\n"
          ]
        }
      ]
    },
    {
      "cell_type": "code",
      "source": [
        "import pandas as pd\n",
        "dataset = pd.read_csv(\"dataset.csv\")"
      ],
      "metadata": {
        "id": "NGDLDn7Be8cJ"
      },
      "execution_count": null,
      "outputs": []
    },
    {
      "cell_type": "code",
      "source": [
        "data = pd.DataFrame(dataset)\n",
        "data = dataset[[\"Gender\", \"Race (Reported)\", \"Age\", \"Height (cm)\", \"Weight (kg)\", \"Diabetes\", \"Simvastatin (Zocor)\", \"Amiodarone (Cordarone)\", \"Target INR\", \"INR on Reported Therapeutic Dose of Warfarin\", \"Cyp2C9 genotypes\", \"VKORC1 genotype: -1639 G>A (3673); chr16:31015190; rs9923231; C/T\", \"Therapeutic Dose of Warfarin\"]]"
      ],
      "metadata": {
        "id": "P7tBDDYgdEmi"
      },
      "execution_count": null,
      "outputs": []
    },
    {
      "cell_type": "code",
      "source": [
        "X = data[[\"Gender\", \"Race (Reported)\", \"Age\", \"Height (cm)\", \"Weight (kg)\", \"Diabetes\", \"Simvastatin (Zocor)\", \"Amiodarone (Cordarone)\", \"Target INR\", \"INR on Reported Therapeutic Dose of Warfarin\", \"Cyp2C9 genotypes\", \"VKORC1 genotype: -1639 G>A (3673); chr16:31015190; rs9923231; C/T\"]]\n",
        "y = data[[\"Therapeutic Dose of Warfarin\"]]"
      ],
      "metadata": {
        "id": "5eJuoI9hhoAh"
      },
      "execution_count": null,
      "outputs": []
    },
    {
      "cell_type": "code",
      "source": [
        "data.to_csv('data.csv',index=False)"
      ],
      "metadata": {
        "id": "duGrKsJCh5Ec"
      },
      "execution_count": null,
      "outputs": []
    },
    {
      "cell_type": "code",
      "source": [
        "data.info()"
      ],
      "metadata": {
        "colab": {
          "base_uri": "https://localhost:8080/"
        },
        "id": "NJpNzEmXiBXP",
        "outputId": "8a883257-2b09-4b2f-e82e-a7951f7175e8"
      },
      "execution_count": null,
      "outputs": [
        {
          "output_type": "stream",
          "name": "stdout",
          "text": [
            "<class 'pandas.core.frame.DataFrame'>\n",
            "RangeIndex: 6161 entries, 0 to 6160\n",
            "Data columns (total 13 columns):\n",
            " #   Column                                                             Non-Null Count  Dtype  \n",
            "---  ------                                                             --------------  -----  \n",
            " 0   Gender                                                             5696 non-null   object \n",
            " 1   Race (Reported)                                                    5194 non-null   object \n",
            " 2   Age                                                                5658 non-null   object \n",
            " 3   Height (cm)                                                        4554 non-null   float64\n",
            " 4   Weight (kg)                                                        5413 non-null   float64\n",
            " 5   Diabetes                                                           3283 non-null   float64\n",
            " 6   Simvastatin (Zocor)                                                3861 non-null   float64\n",
            " 7   Amiodarone (Cordarone)                                             4182 non-null   float64\n",
            " 8   Target INR                                                         1259 non-null   float64\n",
            " 9   INR on Reported Therapeutic Dose of Warfarin                       4968 non-null   float64\n",
            " 10  Cyp2C9 genotypes                                                   5567 non-null   object \n",
            " 11  VKORC1 genotype: -1639 G>A (3673); chr16:31015190; rs9923231; C/T  4046 non-null   object \n",
            " 12  Therapeutic Dose of Warfarin                                       5528 non-null   float64\n",
            "dtypes: float64(8), object(5)\n",
            "memory usage: 625.9+ KB\n"
          ]
        }
      ]
    },
    {
      "cell_type": "code",
      "source": [
        "data.describe()"
      ],
      "metadata": {
        "colab": {
          "base_uri": "https://localhost:8080/",
          "height": 379
        },
        "id": "-WQHyzleiF1C",
        "outputId": "da97fc5b-7966-4fcf-c8b3-70731998515b"
      },
      "execution_count": null,
      "outputs": [
        {
          "output_type": "execute_result",
          "data": {
            "text/plain": [
              "       Height (cm)  Weight (kg)     Diabetes  Simvastatin (Zocor)  \\\n",
              "count  4554.000000  5413.000000  3283.000000          3861.000000   \n",
              "mean    168.047811    77.853057     0.187024             0.146335   \n",
              "std      10.846051    21.860018     0.389990             0.353488   \n",
              "min     124.970000    30.000000     0.000000             0.000000   \n",
              "25%     160.020000    62.000000     0.000000             0.000000   \n",
              "50%     167.890000    75.000000     0.000000             0.000000   \n",
              "75%     176.020000    90.000000     0.000000             0.000000   \n",
              "max     202.000000   237.700000     1.000000             1.000000   \n",
              "\n",
              "       Amiodarone (Cordarone)   Target INR  \\\n",
              "count             4182.000000  1259.000000   \n",
              "mean                 0.066236     2.538324   \n",
              "std                  0.248724     0.198140   \n",
              "min                  0.000000     1.300000   \n",
              "25%                  0.000000     2.500000   \n",
              "50%                  0.000000     2.500000   \n",
              "75%                  0.000000     2.500000   \n",
              "max                  1.000000     3.500000   \n",
              "\n",
              "       INR on Reported Therapeutic Dose of Warfarin  \\\n",
              "count                                   4968.000000   \n",
              "mean                                       2.364436   \n",
              "std                                        0.464645   \n",
              "min                                        0.800000   \n",
              "25%                                        2.100000   \n",
              "50%                                        2.400000   \n",
              "75%                                        2.610000   \n",
              "max                                        6.100000   \n",
              "\n",
              "       Therapeutic Dose of Warfarin  \n",
              "count                   5528.000000  \n",
              "mean                      30.977873  \n",
              "std                       16.801040  \n",
              "min                        2.100000  \n",
              "25%                       19.530000  \n",
              "50%                       28.000000  \n",
              "75%                       38.500000  \n",
              "max                      315.000000  "
            ],
            "text/html": [
              "\n",
              "  <div id=\"df-7a515823-3f3e-4816-8a79-b10d6e5320ab\">\n",
              "    <div class=\"colab-df-container\">\n",
              "      <div>\n",
              "<style scoped>\n",
              "    .dataframe tbody tr th:only-of-type {\n",
              "        vertical-align: middle;\n",
              "    }\n",
              "\n",
              "    .dataframe tbody tr th {\n",
              "        vertical-align: top;\n",
              "    }\n",
              "\n",
              "    .dataframe thead th {\n",
              "        text-align: right;\n",
              "    }\n",
              "</style>\n",
              "<table border=\"1\" class=\"dataframe\">\n",
              "  <thead>\n",
              "    <tr style=\"text-align: right;\">\n",
              "      <th></th>\n",
              "      <th>Height (cm)</th>\n",
              "      <th>Weight (kg)</th>\n",
              "      <th>Diabetes</th>\n",
              "      <th>Simvastatin (Zocor)</th>\n",
              "      <th>Amiodarone (Cordarone)</th>\n",
              "      <th>Target INR</th>\n",
              "      <th>INR on Reported Therapeutic Dose of Warfarin</th>\n",
              "      <th>Therapeutic Dose of Warfarin</th>\n",
              "    </tr>\n",
              "  </thead>\n",
              "  <tbody>\n",
              "    <tr>\n",
              "      <th>count</th>\n",
              "      <td>4554.000000</td>\n",
              "      <td>5413.000000</td>\n",
              "      <td>3283.000000</td>\n",
              "      <td>3861.000000</td>\n",
              "      <td>4182.000000</td>\n",
              "      <td>1259.000000</td>\n",
              "      <td>4968.000000</td>\n",
              "      <td>5528.000000</td>\n",
              "    </tr>\n",
              "    <tr>\n",
              "      <th>mean</th>\n",
              "      <td>168.047811</td>\n",
              "      <td>77.853057</td>\n",
              "      <td>0.187024</td>\n",
              "      <td>0.146335</td>\n",
              "      <td>0.066236</td>\n",
              "      <td>2.538324</td>\n",
              "      <td>2.364436</td>\n",
              "      <td>30.977873</td>\n",
              "    </tr>\n",
              "    <tr>\n",
              "      <th>std</th>\n",
              "      <td>10.846051</td>\n",
              "      <td>21.860018</td>\n",
              "      <td>0.389990</td>\n",
              "      <td>0.353488</td>\n",
              "      <td>0.248724</td>\n",
              "      <td>0.198140</td>\n",
              "      <td>0.464645</td>\n",
              "      <td>16.801040</td>\n",
              "    </tr>\n",
              "    <tr>\n",
              "      <th>min</th>\n",
              "      <td>124.970000</td>\n",
              "      <td>30.000000</td>\n",
              "      <td>0.000000</td>\n",
              "      <td>0.000000</td>\n",
              "      <td>0.000000</td>\n",
              "      <td>1.300000</td>\n",
              "      <td>0.800000</td>\n",
              "      <td>2.100000</td>\n",
              "    </tr>\n",
              "    <tr>\n",
              "      <th>25%</th>\n",
              "      <td>160.020000</td>\n",
              "      <td>62.000000</td>\n",
              "      <td>0.000000</td>\n",
              "      <td>0.000000</td>\n",
              "      <td>0.000000</td>\n",
              "      <td>2.500000</td>\n",
              "      <td>2.100000</td>\n",
              "      <td>19.530000</td>\n",
              "    </tr>\n",
              "    <tr>\n",
              "      <th>50%</th>\n",
              "      <td>167.890000</td>\n",
              "      <td>75.000000</td>\n",
              "      <td>0.000000</td>\n",
              "      <td>0.000000</td>\n",
              "      <td>0.000000</td>\n",
              "      <td>2.500000</td>\n",
              "      <td>2.400000</td>\n",
              "      <td>28.000000</td>\n",
              "    </tr>\n",
              "    <tr>\n",
              "      <th>75%</th>\n",
              "      <td>176.020000</td>\n",
              "      <td>90.000000</td>\n",
              "      <td>0.000000</td>\n",
              "      <td>0.000000</td>\n",
              "      <td>0.000000</td>\n",
              "      <td>2.500000</td>\n",
              "      <td>2.610000</td>\n",
              "      <td>38.500000</td>\n",
              "    </tr>\n",
              "    <tr>\n",
              "      <th>max</th>\n",
              "      <td>202.000000</td>\n",
              "      <td>237.700000</td>\n",
              "      <td>1.000000</td>\n",
              "      <td>1.000000</td>\n",
              "      <td>1.000000</td>\n",
              "      <td>3.500000</td>\n",
              "      <td>6.100000</td>\n",
              "      <td>315.000000</td>\n",
              "    </tr>\n",
              "  </tbody>\n",
              "</table>\n",
              "</div>\n",
              "      <button class=\"colab-df-convert\" onclick=\"convertToInteractive('df-7a515823-3f3e-4816-8a79-b10d6e5320ab')\"\n",
              "              title=\"Convert this dataframe to an interactive table.\"\n",
              "              style=\"display:none;\">\n",
              "        \n",
              "  <svg xmlns=\"http://www.w3.org/2000/svg\" height=\"24px\"viewBox=\"0 0 24 24\"\n",
              "       width=\"24px\">\n",
              "    <path d=\"M0 0h24v24H0V0z\" fill=\"none\"/>\n",
              "    <path d=\"M18.56 5.44l.94 2.06.94-2.06 2.06-.94-2.06-.94-.94-2.06-.94 2.06-2.06.94zm-11 1L8.5 8.5l.94-2.06 2.06-.94-2.06-.94L8.5 2.5l-.94 2.06-2.06.94zm10 10l.94 2.06.94-2.06 2.06-.94-2.06-.94-.94-2.06-.94 2.06-2.06.94z\"/><path d=\"M17.41 7.96l-1.37-1.37c-.4-.4-.92-.59-1.43-.59-.52 0-1.04.2-1.43.59L10.3 9.45l-7.72 7.72c-.78.78-.78 2.05 0 2.83L4 21.41c.39.39.9.59 1.41.59.51 0 1.02-.2 1.41-.59l7.78-7.78 2.81-2.81c.8-.78.8-2.07 0-2.86zM5.41 20L4 18.59l7.72-7.72 1.47 1.35L5.41 20z\"/>\n",
              "  </svg>\n",
              "      </button>\n",
              "      \n",
              "  <style>\n",
              "    .colab-df-container {\n",
              "      display:flex;\n",
              "      flex-wrap:wrap;\n",
              "      gap: 12px;\n",
              "    }\n",
              "\n",
              "    .colab-df-convert {\n",
              "      background-color: #E8F0FE;\n",
              "      border: none;\n",
              "      border-radius: 50%;\n",
              "      cursor: pointer;\n",
              "      display: none;\n",
              "      fill: #1967D2;\n",
              "      height: 32px;\n",
              "      padding: 0 0 0 0;\n",
              "      width: 32px;\n",
              "    }\n",
              "\n",
              "    .colab-df-convert:hover {\n",
              "      background-color: #E2EBFA;\n",
              "      box-shadow: 0px 1px 2px rgba(60, 64, 67, 0.3), 0px 1px 3px 1px rgba(60, 64, 67, 0.15);\n",
              "      fill: #174EA6;\n",
              "    }\n",
              "\n",
              "    [theme=dark] .colab-df-convert {\n",
              "      background-color: #3B4455;\n",
              "      fill: #D2E3FC;\n",
              "    }\n",
              "\n",
              "    [theme=dark] .colab-df-convert:hover {\n",
              "      background-color: #434B5C;\n",
              "      box-shadow: 0px 1px 3px 1px rgba(0, 0, 0, 0.15);\n",
              "      filter: drop-shadow(0px 1px 2px rgba(0, 0, 0, 0.3));\n",
              "      fill: #FFFFFF;\n",
              "    }\n",
              "  </style>\n",
              "\n",
              "      <script>\n",
              "        const buttonEl =\n",
              "          document.querySelector('#df-7a515823-3f3e-4816-8a79-b10d6e5320ab button.colab-df-convert');\n",
              "        buttonEl.style.display =\n",
              "          google.colab.kernel.accessAllowed ? 'block' : 'none';\n",
              "\n",
              "        async function convertToInteractive(key) {\n",
              "          const element = document.querySelector('#df-7a515823-3f3e-4816-8a79-b10d6e5320ab');\n",
              "          const dataTable =\n",
              "            await google.colab.kernel.invokeFunction('convertToInteractive',\n",
              "                                                     [key], {});\n",
              "          if (!dataTable) return;\n",
              "\n",
              "          const docLinkHtml = 'Like what you see? Visit the ' +\n",
              "            '<a target=\"_blank\" href=https://colab.research.google.com/notebooks/data_table.ipynb>data table notebook</a>'\n",
              "            + ' to learn more about interactive tables.';\n",
              "          element.innerHTML = '';\n",
              "          dataTable['output_type'] = 'display_data';\n",
              "          await google.colab.output.renderOutput(dataTable, element);\n",
              "          const docLink = document.createElement('div');\n",
              "          docLink.innerHTML = docLinkHtml;\n",
              "          element.appendChild(docLink);\n",
              "        }\n",
              "      </script>\n",
              "    </div>\n",
              "  </div>\n",
              "  "
            ]
          },
          "metadata": {},
          "execution_count": 11
        }
      ]
    },
    {
      "cell_type": "code",
      "source": [],
      "metadata": {
        "id": "9kr4Wen8iNjl"
      },
      "execution_count": null,
      "outputs": []
    }
  ]
}